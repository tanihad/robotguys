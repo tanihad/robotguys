{
 "cells": [
  {
   "cell_type": "code",
   "execution_count": 2,
   "metadata": {},
   "outputs": [],
   "source": [
    "import numpy as np\n",
    "import matplotlib.pyplot as plt"
   ]
  },
  {
   "cell_type": "code",
   "execution_count": 3,
   "metadata": {},
   "outputs": [],
   "source": [
    "path_1 = np.array([[1,1], [1,2], [1,3], [1,4], [1,5], [1,6], [1,7], [1,8], [1,9], [1,10], [1,11], [1,12]])\n",
    "path_2 = np.array([[1,1], [1,2], [1,3], [1,4], [1,5], [1,6], [1.1,7], [1.2,6], [1.1,5], [1,6], [1,7], [1,8], [1,9], [1,10], [1,11], [1,12]])\n",
    "path_3 = np.append(np.arange(50).reshape(50,1), np.zeros(50).reshape(50,1), axis=1)\n",
    "path_3[:,0] /= 4\n",
    "path_3[:,1] = np.sin(path_3[:,0])"
   ]
  },
  {
   "cell_type": "code",
   "execution_count": 4,
   "metadata": {},
   "outputs": [],
   "source": [
    "def compute_distance_matrix(path):\n",
    "   return np.linalg.norm(path[:,:,np.newaxis] - path[:,:,np.newaxis].T, axis=1)\n",
    "\n",
    "def compute_pairwise_distances(path):\n",
    "   return np.linalg.norm(path[1:]-path[:-1], axis=1)\n",
    "\n",
    "def interpolate(a, b, pct):\n",
    "   return ((b-a)*pct + a).reshape(1,2)\n",
    "\n",
    "def sample_along_polyline(path, n_points):\n",
    "   pdist = compute_pairwise_distances(path)\n",
    "   sample_dist = np.sum(pdist)/(n_points-1)\n",
    "   mod = 0\n",
    "   points = path[0].reshape(1, 2)\n",
    "   path = np.delete(path, 0, axis=0)\n",
    "   while path.shape[0]>0:\n",
    "      points = np.append(points, interpolate(points[-1], path[0], (sample_dist-mod)/pdist[0]), axis=0)\n",
    "      pdist[0] -= (sample_dist-mod)\n",
    "      if pdist[0]/sample_dist < 1:\n",
    "         # handle numerical errors at end of path\n",
    "         if path.shape[0] == 1 and not np.array_equal(points[-1],path[0]):\n",
    "            points = np.append(points, path[0].reshape(1,2), axis=0)\n",
    "         mod = pdist[0]\n",
    "         pdist = np.delete(pdist, 0, axis=0)\n",
    "         path = np.delete(path, 0, axis=0)\n",
    "      else:\n",
    "         mod = 0\n",
    "   return points\n"
   ]
  },
  {
   "cell_type": "code",
   "execution_count": 79,
   "metadata": {},
   "outputs": [
    {
     "data": {
      "text/plain": [
       "(-5.0, 5.0)"
      ]
     },
     "execution_count": 79,
     "metadata": {},
     "output_type": "execute_result"
    },
    {
     "data": {
      "image/png": "[encoded data removed]",
      "text/plain": [
       "<Figure size 640x480 with 1 Axes>"
      ]
     },
     "metadata": {},
     "output_type": "display_data"
    }
   ],
   "source": [
    "x = sample_along_polyline(path_3, 50)\n",
    "plt.scatter(x[:,0], x[:,1])\n",
    "plt.scatter(path_3[:,0], path_3[:,1])\n",
    "plt.xlim((0, 15))\n",
    "plt.ylim((-5, 5))"
   ]
  },
  {
   "cell_type": "code",
   "execution_count": 5,
   "metadata": {},
   "outputs": [],
   "source": [
    "def dist(a, b):\n",
    "   return np.sqrt(np.sum(np.power(a-b, 2)))\n",
    "\n",
    "def compute_path_distance (path_1, path_2):\n",
    "   path_dists = -1 * np.ones((path_1.shape[0],path_2.shape[0]))\n",
    "\n",
    "   def path_distance(path_1, path_2):\n",
    "      if path_dists[path_1.shape[0]-1, path_2.shape[0]-1] != -1:\n",
    "         return path_dists[path_1.shape[0]-1, path_2.shape[0]-1]\n",
    "      if path_1.shape[0] == 1 and path_2.shape[0] == 1:\n",
    "         path_dists[0,0] = dist(path_1[0], path_2[0])\n",
    "      elif path_1.shape[0] == 1:\n",
    "         path_dists[0, path_2.shape[0]-1] = path_distance(path_1, path_2[:-1])\n",
    "      elif path_2.shape[0] == 1:\n",
    "         path_dists[path_1.shape[0]-1] = path_distance(path_1[:-1], path_2)\n",
    "      else:\n",
    "         path_dists[path_1.shape[0]-1, path_2.shape[0]-1] = min(path_distance(path_1[:-1], path_2), path_distance(path_1, path_2[:-1]), path_distance(path_1[:-1], path_2[:-1])) + dist(path_1[-1], path_2[-1])\n",
    "      return path_dists[path_1.shape[0]-1, path_2.shape[0]-1]\n",
    "\n",
    "   return path_distance(path_1, path_2)"
   ]
  },
  {
   "cell_type": "code",
   "execution_count": 7,
   "metadata": {},
   "outputs": [
    {
     "name": "stdout",
     "output_type": "stream",
     "text": [
      "427.72293312256346\n",
      "427.72293312256346\n"
     ]
    }
   ],
   "source": [
    "x = sample_along_polyline(path_3, 50)\n",
    "y = sample_along_polyline(path_2, 50)\n",
    "print(compute_path_distance(x, y))\n",
    "print(compute_path_distance(y, x))"
   ]
  }
 ],
 "metadata": {
  "kernelspec": {
   "display_name": "comp540",
   "language": "python",
   "name": "python3"
  },
  "language_info": {
   "codemirror_mode": {
    "name": "ipython",
    "version": 3
   },
   "file_extension": ".py",
   "mimetype": "text/x-python",
   "name": "python",
   "nbconvert_exporter": "python",
   "pygments_lexer": "ipython3",
   "version": "3.9.19"
  }
 },
 "nbformat": 4,
 "nbformat_minor": 2
}
